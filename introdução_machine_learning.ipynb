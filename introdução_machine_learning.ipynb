{
 "cells": [
  {
   "cell_type": "markdown",
   "metadata": {},
   "source": [
    "# Machine Learning\n",
    "O aprendizado de maquina é o processo de treinar um software (software esse chamado de modelo) para fazer previsões ou geral conteúdo com base em dados.\n",
    "\n",
    "O modelo pode ser entendido como uma relação matemática derivada do dados.\n",
    "\n",
    "Podemos dividir a aprendizagem de maquina entre a supervisonada e a não supervisionada"
   ]
  },
  {
   "cell_type": "markdown",
   "metadata": {},
   "source": [
    "## Aprendizagem supervisionada\n",
    "Onde o computador recebe dados rotulados, ou seja dados onde já existe qual a saída é esperada. Então o modelo receb esses dados e preve rótulos para novos dados.\n",
    "Existem alguns métodos para se lidar com essa aprendizagem, como a Regressão e a Classificação."
   ]
  },
  {
   "cell_type": "markdown",
   "metadata": {},
   "source": [
    "### Regressão\n",
    "Os modelos de Regressão são aqueles que tentam prevê um valor numérico como, o preço de uma casa com 3 quartos ou quantos minimitros de chuva são previstos para o dia.\n",
    "E a regressão e sub-dividida em: \n",
    "        LINEAR--> a melhor linha que se ajusta aos valores;\n",
    "        LOGISTICA--> Probabilidade entre 0.0 e 1.0;"
   ]
  },
  {
   "cell_type": "markdown",
   "metadata": {},
   "source": [
    "### Classificação\n",
    "Divisão dos dados em categorias.\n",
    "\n",
    "            BINÁRIA\n",
    "            MULTICLASSE"
   ]
  },
  {
   "cell_type": "markdown",
   "metadata": {},
   "source": [
    "## Aprendizagem Não supervisionada"
   ]
  },
  {
   "cell_type": "code",
   "execution_count": null,
   "metadata": {},
   "outputs": [],
   "source": []
  },
  {
   "cell_type": "code",
   "execution_count": null,
   "metadata": {},
   "outputs": [],
   "source": []
  }
 ],
 "metadata": {
  "language_info": {
   "name": "python"
  }
 },
 "nbformat": 4,
 "nbformat_minor": 2
}
